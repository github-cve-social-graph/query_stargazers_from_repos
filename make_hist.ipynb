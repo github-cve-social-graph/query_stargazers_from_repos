{
 "metadata": {
  "language_info": {
   "codemirror_mode": {
    "name": "ipython",
    "version": 3
   },
   "file_extension": ".py",
   "mimetype": "text/x-python",
   "name": "python",
   "nbconvert_exporter": "python",
   "pygments_lexer": "ipython3",
   "version": "3.8.5-final"
  },
  "orig_nbformat": 2,
  "kernelspec": {
   "name": "Python 3.8.5 64-bit ('graphene': conda)",
   "display_name": "Python 3.8.5 64-bit ('graphene': conda)",
   "metadata": {
    "interpreter": {
     "hash": "ee39d2e42513e14268950b2ab5330f1d834f3560580009a694395a4a92ccd3f5"
    }
   }
  }
 },
 "nbformat": 4,
 "nbformat_minor": 2,
 "cells": [
  {
   "cell_type": "code",
   "execution_count": 1,
   "metadata": {},
   "outputs": [],
   "source": [
    "import pandas as pd \n",
    "import numpy as np\n",
    "from functools import partial, reduce\n",
    "import glob \n",
    "import os\n",
    "import itertools as it\n",
    "from collections import Counter\n",
    "import matplotlib.pyplot as plt\n",
    "from matplotlib import colors\n",
    "from matplotlib.ticker import PercentFormatter\n",
    "\n"
   ]
  },
  {
   "cell_type": "code",
   "execution_count": 2,
   "metadata": {},
   "outputs": [
    {
     "output_type": "stream",
     "name": "stdout",
     "text": [
      "Processing 111 repos data:\n",
      "\n",
      "aapanel\n",
      "BlackCatCMS\n",
      "bludit\n",
      "BugReport\n",
      "cabot\n",
      "cJSON\n",
      "Codiad\n",
      "contiki-ng\n",
      "cryptacular\n",
      "CSS-injection-in-Swagger-UI\n",
      "CVE-2020-11579\n",
      "CVE-2020-25270\n",
      "CVE-2020-25272\n",
      "CVE-2020-25273\n",
      "CVE-2020-25487\n",
      "cve-pocs\n",
      "CVEnotes\n",
      "CVEs\n",
      "devise\n",
      "Disclosures\n",
      "dotplant2\n",
      "envoy\n",
      "FA\n",
      "Fluid\n",
      "fosite\n",
      "FreeRDP\n",
      "GetSimpleCMS\n",
      "glpi\n",
      "godot\n",
      "gog_galaxy_client_service_poc\n",
      "goxmldsig\n",
      "gpac\n",
      "grocy\n",
      "halo\n",
      "hapi-fhir\n",
      "harbor\n",
      "HFish\n",
      "http\n",
      "icingaweb2\n",
      "illumos-gate\n",
      "ImageMagick\n",
      "impresscms\n",
      "inspircd\n",
      "jackson-databind\n",
      "jackson-modules-java8\n",
      "jasper\n",
      "jerryscript\n",
      "json\n",
      "kubernetes\n",
      "libarchive\n",
      "libexpat\n",
      "libgd\n",
      "libjpeg-turbo\n",
      "libproxy\n",
      "LibRaw\n",
      "libssh2\n",
      "linux\n",
      "LuaJIT\n",
      "md4c\n",
      "metasploit-framework\n",
      "MilkyTracker\n",
      "Miscellaneous\n",
      "mobile-android\n",
      "mojarra\n",
      "mumble\n",
      "nacos\n",
      "Navigate-CMS\n",
      "netty\n",
      "nfdump\n",
      "njs\n",
      "node-oauth2-server\n",
      "oauth-ruby\n",
      "openeclass\n",
      "openjpeg\n",
      "optionsbleed\n",
      "osquery\n",
      "ovs\n",
      "peg-markdown\n",
      "PHP-Fusion\n",
      "PHPMailer\n",
      "pip\n",
      "pluck\n",
      "PluXml\n",
      "poc-yaws-cgi-shell-injection\n",
      "pocs\n",
      "radare2\n",
      "rails\n",
      "RAU_crypto\n",
      "routeros\n",
      "routinator\n",
      "rust\n",
      "safe-eval\n",
      "silk-v3-decoder\n",
      "simpl-schema\n",
      "sized-chunks\n",
      "soycms\n",
      "SyliusResourceBundle\n",
      "tailorMS-rXSS-Keylogger\n",
      "tensorflow\n",
      "ThinkAdmin\n",
      "tigervnc\n",
      "tnef\n",
      "TravelManagementSystemRCE\n",
      "WavPack\n",
      "xmlquery\n",
      "xtext-xtend\n",
      "xxl-job\n",
      "yaws\n",
      "ygopro\n",
      "ysoserial\n",
      "zziplib\n"
     ]
    }
   ],
   "source": [
    "path = \"data\"\n",
    "\n",
    "all_files = glob.glob(os.path.join(path, \"*.csv\"))\n",
    "\n",
    "df_list = []\n",
    "\n",
    "print(f\"Processing {len(all_files)} repos data:\\n\")\n",
    "\n",
    "for f in all_files:\n",
    "    path_list = f.split(\"\\\\\")\n",
    "    f_name = path_list[-1]\n",
    "    f_name2 = f_name.split(\"stargazers_\")[1]\n",
    "    repo_name = f_name2.split(\".csv\")[0] \n",
    "    print(repo_name) \n",
    "    df_from_file = pd.read_csv(f)\n",
    "    df_from_file['repo_name'] = repo_name\n",
    "    df_list.append(df_from_file)\n",
    "\n",
    "\n",
    "\n",
    "df_concat = pd.concat(df_list, ignore_index=True)\n",
    "\n"
   ]
  },
  {
   "cell_type": "code",
   "execution_count": 3,
   "metadata": {},
   "outputs": [],
   "source": [
    "df_concat.to_csv(\"all_data_concatenated.csv\")"
   ]
  },
  {
   "cell_type": "code",
   "execution_count": 4,
   "metadata": {},
   "outputs": [],
   "source": [
    "with open(\"all_data_concatenated.csv\", encoding = \"utf-8\" ) as f:\n",
    "    df_concat = pd.read_csv(f)\n"
   ]
  },
  {
   "cell_type": "code",
   "execution_count": 5,
   "metadata": {},
   "outputs": [
    {
     "output_type": "execute_result",
     "data": {
      "text/plain": [
       "        Unnamed: 0        username          name  numberOfReposStarred  \\\n",
       "0                0      AnthonyH45           UCR                  1954   \n",
       "1                1         webbird           NaN                    61   \n",
       "2                2       schoensee           NaN                     1   \n",
       "3                3  marc-sauerwald           NaN                    11   \n",
       "4                4   digitalbricks       Germany                     5   \n",
       "...            ...             ...           ...                   ...   \n",
       "296342      296342          ayllon        Geneva                    16   \n",
       "296343      296343      jjhartmann  Waterloo, ON                   195   \n",
       "296344      296344      Huangguoju           NaN                    21   \n",
       "296345      296345        bing2008           NaN                   674   \n",
       "296346      296346           mb720           NaN                   478   \n",
       "\n",
       "          repo_name  \n",
       "0           aapanel  \n",
       "1       BlackCatCMS  \n",
       "2       BlackCatCMS  \n",
       "3       BlackCatCMS  \n",
       "4       BlackCatCMS  \n",
       "...             ...  \n",
       "296342      zziplib  \n",
       "296343      zziplib  \n",
       "296344      zziplib  \n",
       "296345      zziplib  \n",
       "296346      zziplib  \n",
       "\n",
       "[296347 rows x 5 columns]"
      ],
      "text/html": "<div>\n<style scoped>\n    .dataframe tbody tr th:only-of-type {\n        vertical-align: middle;\n    }\n\n    .dataframe tbody tr th {\n        vertical-align: top;\n    }\n\n    .dataframe thead th {\n        text-align: right;\n    }\n</style>\n<table border=\"1\" class=\"dataframe\">\n  <thead>\n    <tr style=\"text-align: right;\">\n      <th></th>\n      <th>Unnamed: 0</th>\n      <th>username</th>\n      <th>name</th>\n      <th>numberOfReposStarred</th>\n      <th>repo_name</th>\n    </tr>\n  </thead>\n  <tbody>\n    <tr>\n      <th>0</th>\n      <td>0</td>\n      <td>AnthonyH45</td>\n      <td>UCR</td>\n      <td>1954</td>\n      <td>aapanel</td>\n    </tr>\n    <tr>\n      <th>1</th>\n      <td>1</td>\n      <td>webbird</td>\n      <td>NaN</td>\n      <td>61</td>\n      <td>BlackCatCMS</td>\n    </tr>\n    <tr>\n      <th>2</th>\n      <td>2</td>\n      <td>schoensee</td>\n      <td>NaN</td>\n      <td>1</td>\n      <td>BlackCatCMS</td>\n    </tr>\n    <tr>\n      <th>3</th>\n      <td>3</td>\n      <td>marc-sauerwald</td>\n      <td>NaN</td>\n      <td>11</td>\n      <td>BlackCatCMS</td>\n    </tr>\n    <tr>\n      <th>4</th>\n      <td>4</td>\n      <td>digitalbricks</td>\n      <td>Germany</td>\n      <td>5</td>\n      <td>BlackCatCMS</td>\n    </tr>\n    <tr>\n      <th>...</th>\n      <td>...</td>\n      <td>...</td>\n      <td>...</td>\n      <td>...</td>\n      <td>...</td>\n    </tr>\n    <tr>\n      <th>296342</th>\n      <td>296342</td>\n      <td>ayllon</td>\n      <td>Geneva</td>\n      <td>16</td>\n      <td>zziplib</td>\n    </tr>\n    <tr>\n      <th>296343</th>\n      <td>296343</td>\n      <td>jjhartmann</td>\n      <td>Waterloo, ON</td>\n      <td>195</td>\n      <td>zziplib</td>\n    </tr>\n    <tr>\n      <th>296344</th>\n      <td>296344</td>\n      <td>Huangguoju</td>\n      <td>NaN</td>\n      <td>21</td>\n      <td>zziplib</td>\n    </tr>\n    <tr>\n      <th>296345</th>\n      <td>296345</td>\n      <td>bing2008</td>\n      <td>NaN</td>\n      <td>674</td>\n      <td>zziplib</td>\n    </tr>\n    <tr>\n      <th>296346</th>\n      <td>296346</td>\n      <td>mb720</td>\n      <td>NaN</td>\n      <td>478</td>\n      <td>zziplib</td>\n    </tr>\n  </tbody>\n</table>\n<p>296347 rows × 5 columns</p>\n</div>"
     },
     "metadata": {},
     "execution_count": 5
    }
   ],
   "source": [
    "df_concat"
   ]
  },
  {
   "cell_type": "code",
   "execution_count": 6,
   "metadata": {},
   "outputs": [],
   "source": [
    "counter = Counter()"
   ]
  },
  {
   "cell_type": "code",
   "execution_count": 7,
   "metadata": {},
   "outputs": [
    {
     "output_type": "execute_result",
     "data": {
      "text/plain": [
       "0             AnthonyH45\n",
       "1                webbird\n",
       "2              schoensee\n",
       "3         marc-sauerwald\n",
       "4          digitalbricks\n",
       "               ...      \n",
       "296342            ayllon\n",
       "296343        jjhartmann\n",
       "296344        Huangguoju\n",
       "296345          bing2008\n",
       "296346             mb720\n",
       "Name: username, Length: 296347, dtype: object"
      ]
     },
     "metadata": {},
     "execution_count": 7
    }
   ],
   "source": [
    "usernames = df_concat[\"username\"]\n",
    "\n",
    "usernames"
   ]
  },
  {
   "cell_type": "code",
   "execution_count": 8,
   "metadata": {
    "tags": []
   },
   "outputs": [],
   "source": [
    "for username in usernames:\n",
    "    counter[username] += 1"
   ]
  },
  {
   "cell_type": "code",
   "execution_count": 9,
   "metadata": {},
   "outputs": [
    {
     "output_type": "execute_result",
     "data": {
      "text/plain": [
       "[('denji', 42), ('vulcangz', 38), ('angusshire', 34)]"
      ]
     },
     "metadata": {},
     "execution_count": 9
    }
   ],
   "source": [
    "counter.most_common(3)"
   ]
  },
  {
   "cell_type": "code",
   "execution_count": 10,
   "metadata": {
    "tags": []
   },
   "outputs": [],
   "source": [
    "counter_dict = dict(counter)\n",
    "\n",
    "hist_dict = Counter(counter_dict.values())\n"
   ]
  },
  {
   "cell_type": "code",
   "execution_count": 11,
   "metadata": {
    "tags": []
   },
   "outputs": [
    {
     "output_type": "stream",
     "name": "stdout",
     "text": [
      "{1, 2, 3, 4, 5, 6, 7, 8, 9, 10, 11, 12, 13, 14, 15, 16, 17, 18, 19, 20, 21, 22, 23, 24, 25, 26, 27, 30, 32, 34, 38, 42}\n"
     ]
    }
   ],
   "source": [
    "hist_values = counter_dict.values()\n",
    "print(set(hist_values))"
   ]
  },
  {
   "cell_type": "code",
   "execution_count": 12,
   "metadata": {
    "tags": []
   },
   "outputs": [
    {
     "output_type": "stream",
     "name": "stdout",
     "text": [
      "[18, 12, 16, 12, 30, 10, 13, 38, 10, 10, 11, 17, 13, 11, 11, 19, 16, 10, 10, 13, 22, 11, 10, 26, 10, 13, 10, 13, 10, 10, 11, 23, 10, 10, 10, 26, 11, 10, 12, 15, 20, 10, 12, 15, 12, 11, 10, 13, 15, 13, 12, 10, 12, 11, 16, 17, 10, 11, 13, 15, 14, 10, 15, 10, 22, 12, 10, 10, 16, 10, 13, 10, 16, 17, 11, 10, 10, 10, 22, 11, 34, 12, 10, 13, 17, 10, 10, 12, 10, 11, 11, 13, 18, 11, 10, 10, 15, 10, 42, 10, 12, 10, 14, 12, 20, 10, 11, 11, 16, 12, 13, 19, 10, 14, 14, 12, 14, 14, 13, 13, 12, 12, 21, 13, 13, 12, 14, 11, 16, 17, 10, 18, 15, 10, 12, 10, 32, 10, 10, 11, 10, 10, 16, 12, 10, 12, 10, 13, 14, 34, 10, 12, 16, 13, 25, 10, 18, 16, 15, 11, 11, 15, 10, 10, 19, 15, 10, 11, 12, 15, 12, 12, 10, 15, 26, 16, 12, 11, 15, 11, 10, 12, 13, 11, 14, 23, 21, 10, 10, 17, 12, 15, 18, 10, 12, 13, 10, 14, 11, 20, 10, 13, 10, 14, 12, 10, 14, 10, 11, 13, 25, 18, 11, 11, 14, 11, 10, 13, 19, 15, 11, 10, 10, 10, 13, 24, 18, 27, 18, 14, 10, 18, 10, 26, 17, 10, 11, 10, 12, 14, 11, 20, 10, 13, 19, 14, 12, 11, 14, 12, 10, 12, 10, 13, 10, 10, 10, 10, 13, 12, 16, 12, 10, 10, 13, 11, 11, 11, 10, 15, 10, 11, 13, 14, 20, 12, 11, 11, 14, 11, 15, 11, 11, 13, 11, 10, 11, 12, 11, 13, 10, 10, 13, 11, 11, 11, 17, 13, 14, 11, 11, 10, 13, 10, 10, 12, 11, 12, 14, 14, 10, 10, 10, 11, 11, 13, 14, 10, 10, 11, 13, 10, 15, 14, 11, 10, 10, 19, 10, 10, 11, 11, 10, 12, 15, 12, 13, 11, 11, 11, 19, 10, 10, 10, 13, 12, 10, 11, 13, 11, 10, 25, 12, 14, 10, 18, 10, 10, 11, 13, 19, 10, 12, 11, 12, 14, 11, 10, 10, 10, 13, 20, 11, 11, 11, 13, 10, 11, 15, 20, 16, 12, 16, 11, 11, 12, 13, 10, 12, 13, 11, 21, 13, 17, 12, 11, 11, 12, 11, 10, 11, 11, 11, 10, 13, 10, 17, 10, 10, 14, 15, 12, 15, 12, 16, 14, 14, 11, 10, 10, 22, 11, 12, 10, 15, 10, 10, 11, 10, 10, 11, 15, 11, 11, 10, 10, 10, 14, 10, 10, 10, 10, 14, 16, 11, 13, 11, 10, 10, 10, 15, 13, 10, 10, 10, 10, 10, 15, 10, 10, 11]\n"
     ]
    }
   ],
   "source": [
    "filtered_values = list(filter(lambda a : a >= 10, hist_values))\n",
    "print(filtered_values)"
   ]
  },
  {
   "cell_type": "code",
   "execution_count": 18,
   "metadata": {},
   "outputs": [
    {
     "output_type": "display_data",
     "data": {
      "text/plain": "<Figure size 432x288 with 1 Axes>",
      "image/svg+xml": "<?xml version=\"1.0\" encoding=\"utf-8\" standalone=\"no\"?>\r\n<!DOCTYPE svg PUBLIC \"-//W3C//DTD SVG 1.1//EN\"\r\n  \"http://www.w3.org/Graphics/SVG/1.1/DTD/svg11.dtd\">\r\n<!-- Created with matplotlib (https://matplotlib.org/) -->\r\n<svg height=\"280.15625pt\" version=\"1.1\" viewBox=\"0 0 424.440625 280.15625\" width=\"424.440625pt\" xmlns=\"http://www.w3.org/2000/svg\" xmlns:xlink=\"http://www.w3.org/1999/xlink\">\r\n <metadata>\r\n  <rdf:RDF xmlns:cc=\"http://creativecommons.org/ns#\" xmlns:dc=\"http://purl.org/dc/elements/1.1/\" xmlns:rdf=\"http://www.w3.org/1999/02/22-rdf-syntax-ns#\">\r\n   <cc:Work>\r\n    <dc:type rdf:resource=\"http://purl.org/dc/dcmitype/StillImage\"/>\r\n    <dc:date>2020-11-01T20:57:00.084133</dc:date>\r\n    <dc:format>image/svg+xml</dc:format>\r\n    <dc:creator>\r\n     <cc:Agent>\r\n      <dc:title>Matplotlib v3.3.2, https://matplotlib.org/</dc:title>\r\n     </cc:Agent>\r\n    </dc:creator>\r\n   </cc:Work>\r\n  </rdf:RDF>\r\n </metadata>\r\n <defs>\r\n  <style type=\"text/css\">*{stroke-linecap:butt;stroke-linejoin:round;}</style>\r\n </defs>\r\n <g id=\"figure_1\">\r\n  <g id=\"patch_1\">\r\n   <path d=\"M 0 280.15625 \r\nL 424.440625 280.15625 \r\nL 424.440625 0 \r\nL 0 0 \r\nz\r\n\" style=\"fill:none;\"/>\r\n  </g>\r\n  <g id=\"axes_1\">\r\n   <g id=\"patch_2\">\r\n    <path d=\"M 46.965625 242.6 \r\nL 417.240625 242.6 \r\nL 417.240625 7.2 \r\nL 46.965625 7.2 \r\nz\r\n\" style=\"fill:#ffffff;\"/>\r\n   </g>\r\n   <g id=\"patch_3\">\r\n    <path clip-path=\"url(#p480a0b361d)\" d=\"M 63.796307 242.6 \r\nL 78.431682 242.6 \r\nL 78.431682 18.409524 \r\nL 63.796307 18.409524 \r\nz\r\n\" style=\"fill:#003fff;\"/>\r\n   </g>\r\n   <g id=\"patch_4\">\r\n    <path clip-path=\"url(#p480a0b361d)\" d=\"M 78.431682 242.6 \r\nL 93.067058 242.6 \r\nL 93.067058 190.485547 \r\nL 78.431682 190.485547 \r\nz\r\n\" style=\"fill:#003fff;\"/>\r\n   </g>\r\n   <g id=\"patch_5\">\r\n    <path clip-path=\"url(#p480a0b361d)\" d=\"M 93.067058 242.6 \r\nL 107.702433 242.6 \r\nL 107.702433 164.919967 \r\nL 93.067058 164.919967 \r\nz\r\n\" style=\"fill:#003fff;\"/>\r\n   </g>\r\n   <g id=\"patch_6\">\r\n    <path clip-path=\"url(#p480a0b361d)\" d=\"M 107.702433 242.6 \r\nL 122.337809 242.6 \r\nL 122.337809 217.034419 \r\nL 107.702433 217.034419 \r\nz\r\n\" style=\"fill:#003fff;\"/>\r\n   </g>\r\n   <g id=\"patch_7\">\r\n    <path clip-path=\"url(#p480a0b361d)\" d=\"M 122.337809 242.6 \r\nL 136.973184 242.6 \r\nL 136.973184 226.867335 \r\nL 122.337809 226.867335 \r\nz\r\n\" style=\"fill:#003fff;\"/>\r\n   </g>\r\n   <g id=\"patch_8\">\r\n    <path clip-path=\"url(#p480a0b361d)\" d=\"M 136.973184 242.6 \r\nL 151.60856 242.6 \r\nL 151.60856 222.934169 \r\nL 136.973184 222.934169 \r\nz\r\n\" style=\"fill:#003fff;\"/>\r\n   </g>\r\n   <g id=\"patch_9\">\r\n    <path clip-path=\"url(#p480a0b361d)\" d=\"M 151.60856 242.6 \r\nL 166.243935 242.6 \r\nL 166.243935 234.733668 \r\nL 151.60856 234.733668 \r\nz\r\n\" style=\"fill:#003fff;\"/>\r\n   </g>\r\n   <g id=\"patch_10\">\r\n    <path clip-path=\"url(#p480a0b361d)\" d=\"M 166.243935 242.6 \r\nL 180.879311 242.6 \r\nL 180.879311 232.767084 \r\nL 166.243935 232.767084 \r\nz\r\n\" style=\"fill:#003fff;\"/>\r\n   </g>\r\n   <g id=\"patch_11\">\r\n    <path clip-path=\"url(#p480a0b361d)\" d=\"M 180.879311 242.6 \r\nL 195.514686 242.6 \r\nL 195.514686 238.666834 \r\nL 180.879311 238.666834 \r\nz\r\n\" style=\"fill:#003fff;\"/>\r\n   </g>\r\n   <g id=\"patch_12\">\r\n    <path clip-path=\"url(#p480a0b361d)\" d=\"M 195.514686 242.6 \r\nL 210.150062 242.6 \r\nL 210.150062 240.633417 \r\nL 195.514686 240.633417 \r\nz\r\n\" style=\"fill:#003fff;\"/>\r\n   </g>\r\n   <g id=\"patch_13\">\r\n    <path clip-path=\"url(#p480a0b361d)\" d=\"M 210.150062 242.6 \r\nL 224.785437 242.6 \r\nL 224.785437 238.666834 \r\nL 210.150062 238.666834 \r\nz\r\n\" style=\"fill:#003fff;\"/>\r\n   </g>\r\n   <g id=\"patch_14\">\r\n    <path clip-path=\"url(#p480a0b361d)\" d=\"M 224.785437 242.6 \r\nL 239.420813 242.6 \r\nL 239.420813 238.666834 \r\nL 224.785437 238.666834 \r\nz\r\n\" style=\"fill:#003fff;\"/>\r\n   </g>\r\n   <g id=\"patch_15\">\r\n    <path clip-path=\"url(#p480a0b361d)\" d=\"M 239.420813 242.6 \r\nL 254.056188 242.6 \r\nL 254.056188 241.616708 \r\nL 239.420813 241.616708 \r\nz\r\n\" style=\"fill:#003fff;\"/>\r\n   </g>\r\n   <g id=\"patch_16\">\r\n    <path clip-path=\"url(#p480a0b361d)\" d=\"M 254.056188 242.6 \r\nL 268.691564 242.6 \r\nL 268.691564 242.6 \r\nL 254.056188 242.6 \r\nz\r\n\" style=\"fill:#003fff;\"/>\r\n   </g>\r\n   <g id=\"patch_17\">\r\n    <path clip-path=\"url(#p480a0b361d)\" d=\"M 268.691564 242.6 \r\nL 283.326939 242.6 \r\nL 283.326939 241.616708 \r\nL 268.691564 241.616708 \r\nz\r\n\" style=\"fill:#003fff;\"/>\r\n   </g>\r\n   <g id=\"patch_18\">\r\n    <path clip-path=\"url(#p480a0b361d)\" d=\"M 283.326939 242.6 \r\nL 297.962315 242.6 \r\nL 297.962315 241.616708 \r\nL 283.326939 241.616708 \r\nz\r\n\" style=\"fill:#003fff;\"/>\r\n   </g>\r\n   <g id=\"patch_19\">\r\n    <path clip-path=\"url(#p480a0b361d)\" d=\"M 297.962315 242.6 \r\nL 312.59769 242.6 \r\nL 312.59769 242.6 \r\nL 297.962315 242.6 \r\nz\r\n\" style=\"fill:#003fff;\"/>\r\n   </g>\r\n   <g id=\"patch_20\">\r\n    <path clip-path=\"url(#p480a0b361d)\" d=\"M 312.59769 242.6 \r\nL 327.233066 242.6 \r\nL 327.233066 240.633417 \r\nL 312.59769 240.633417 \r\nz\r\n\" style=\"fill:#003fff;\"/>\r\n   </g>\r\n   <g id=\"patch_21\">\r\n    <path clip-path=\"url(#p480a0b361d)\" d=\"M 327.233066 242.6 \r\nL 341.868441 242.6 \r\nL 341.868441 242.6 \r\nL 327.233066 242.6 \r\nz\r\n\" style=\"fill:#003fff;\"/>\r\n   </g>\r\n   <g id=\"patch_22\">\r\n    <path clip-path=\"url(#p480a0b361d)\" d=\"M 341.868441 242.6 \r\nL 356.503817 242.6 \r\nL 356.503817 242.6 \r\nL 341.868441 242.6 \r\nz\r\n\" style=\"fill:#003fff;\"/>\r\n   </g>\r\n   <g id=\"patch_23\">\r\n    <path clip-path=\"url(#p480a0b361d)\" d=\"M 356.503817 242.6 \r\nL 371.139192 242.6 \r\nL 371.139192 241.616708 \r\nL 356.503817 241.616708 \r\nz\r\n\" style=\"fill:#003fff;\"/>\r\n   </g>\r\n   <g id=\"patch_24\">\r\n    <path clip-path=\"url(#p480a0b361d)\" d=\"M 371.139192 242.6 \r\nL 385.774568 242.6 \r\nL 385.774568 242.6 \r\nL 371.139192 242.6 \r\nz\r\n\" style=\"fill:#003fff;\"/>\r\n   </g>\r\n   <g id=\"patch_25\">\r\n    <path clip-path=\"url(#p480a0b361d)\" d=\"M 385.774568 242.6 \r\nL 400.409943 242.6 \r\nL 400.409943 241.616708 \r\nL 385.774568 241.616708 \r\nz\r\n\" style=\"fill:#003fff;\"/>\r\n   </g>\r\n   <g id=\"matplotlib.axis_1\">\r\n    <g id=\"xtick_1\">\r\n     <g id=\"line2d_1\">\r\n      <defs>\r\n       <path d=\"M 0 0 \r\nL 0 3.5 \r\n\" id=\"m8615eb8567\" style=\"stroke:#000000;stroke-width:0.8;\"/>\r\n      </defs>\r\n      <g>\r\n       <use style=\"stroke:#000000;stroke-width:0.8;\" x=\"63.796307\" xlink:href=\"#m8615eb8567\" y=\"242.6\"/>\r\n      </g>\r\n     </g>\r\n     <g id=\"text_1\">\r\n      <!-- 10 -->\r\n      <g transform=\"translate(57.433807 257.198437)scale(0.1 -0.1)\">\r\n       <defs>\r\n        <path d=\"M 12.40625 8.296875 \r\nL 28.515625 8.296875 \r\nL 28.515625 63.921875 \r\nL 10.984375 60.40625 \r\nL 10.984375 69.390625 \r\nL 28.421875 72.90625 \r\nL 38.28125 72.90625 \r\nL 38.28125 8.296875 \r\nL 54.390625 8.296875 \r\nL 54.390625 0 \r\nL 12.40625 0 \r\nz\r\n\" id=\"DejaVuSans-49\"/>\r\n        <path d=\"M 31.78125 66.40625 \r\nQ 24.171875 66.40625 20.328125 58.90625 \r\nQ 16.5 51.421875 16.5 36.375 \r\nQ 16.5 21.390625 20.328125 13.890625 \r\nQ 24.171875 6.390625 31.78125 6.390625 \r\nQ 39.453125 6.390625 43.28125 13.890625 \r\nQ 47.125 21.390625 47.125 36.375 \r\nQ 47.125 51.421875 43.28125 58.90625 \r\nQ 39.453125 66.40625 31.78125 66.40625 \r\nz\r\nM 31.78125 74.21875 \r\nQ 44.046875 74.21875 50.515625 64.515625 \r\nQ 56.984375 54.828125 56.984375 36.375 \r\nQ 56.984375 17.96875 50.515625 8.265625 \r\nQ 44.046875 -1.421875 31.78125 -1.421875 \r\nQ 19.53125 -1.421875 13.0625 8.265625 \r\nQ 6.59375 17.96875 6.59375 36.375 \r\nQ 6.59375 54.828125 13.0625 64.515625 \r\nQ 19.53125 74.21875 31.78125 74.21875 \r\nz\r\n\" id=\"DejaVuSans-48\"/>\r\n       </defs>\r\n       <use xlink:href=\"#DejaVuSans-49\"/>\r\n       <use x=\"63.623047\" xlink:href=\"#DejaVuSans-48\"/>\r\n      </g>\r\n     </g>\r\n    </g>\r\n    <g id=\"xtick_2\">\r\n     <g id=\"line2d_2\">\r\n      <g>\r\n       <use style=\"stroke:#000000;stroke-width:0.8;\" x=\"116.392188\" xlink:href=\"#m8615eb8567\" y=\"242.6\"/>\r\n      </g>\r\n     </g>\r\n     <g id=\"text_2\">\r\n      <!-- 15 -->\r\n      <g transform=\"translate(110.029688 257.198437)scale(0.1 -0.1)\">\r\n       <defs>\r\n        <path d=\"M 10.796875 72.90625 \r\nL 49.515625 72.90625 \r\nL 49.515625 64.59375 \r\nL 19.828125 64.59375 \r\nL 19.828125 46.734375 \r\nQ 21.96875 47.46875 24.109375 47.828125 \r\nQ 26.265625 48.1875 28.421875 48.1875 \r\nQ 40.625 48.1875 47.75 41.5 \r\nQ 54.890625 34.8125 54.890625 23.390625 \r\nQ 54.890625 11.625 47.5625 5.09375 \r\nQ 40.234375 -1.421875 26.90625 -1.421875 \r\nQ 22.3125 -1.421875 17.546875 -0.640625 \r\nQ 12.796875 0.140625 7.71875 1.703125 \r\nL 7.71875 11.625 \r\nQ 12.109375 9.234375 16.796875 8.0625 \r\nQ 21.484375 6.890625 26.703125 6.890625 \r\nQ 35.15625 6.890625 40.078125 11.328125 \r\nQ 45.015625 15.765625 45.015625 23.390625 \r\nQ 45.015625 31 40.078125 35.4375 \r\nQ 35.15625 39.890625 26.703125 39.890625 \r\nQ 22.75 39.890625 18.8125 39.015625 \r\nQ 14.890625 38.140625 10.796875 36.28125 \r\nz\r\n\" id=\"DejaVuSans-53\"/>\r\n       </defs>\r\n       <use xlink:href=\"#DejaVuSans-49\"/>\r\n       <use x=\"63.623047\" xlink:href=\"#DejaVuSans-53\"/>\r\n      </g>\r\n     </g>\r\n    </g>\r\n    <g id=\"xtick_3\">\r\n     <g id=\"line2d_3\">\r\n      <g>\r\n       <use style=\"stroke:#000000;stroke-width:0.8;\" x=\"168.988068\" xlink:href=\"#m8615eb8567\" y=\"242.6\"/>\r\n      </g>\r\n     </g>\r\n     <g id=\"text_3\">\r\n      <!-- 20 -->\r\n      <g transform=\"translate(162.625568 257.198437)scale(0.1 -0.1)\">\r\n       <defs>\r\n        <path d=\"M 19.1875 8.296875 \r\nL 53.609375 8.296875 \r\nL 53.609375 0 \r\nL 7.328125 0 \r\nL 7.328125 8.296875 \r\nQ 12.9375 14.109375 22.625 23.890625 \r\nQ 32.328125 33.6875 34.8125 36.53125 \r\nQ 39.546875 41.84375 41.421875 45.53125 \r\nQ 43.3125 49.21875 43.3125 52.78125 \r\nQ 43.3125 58.59375 39.234375 62.25 \r\nQ 35.15625 65.921875 28.609375 65.921875 \r\nQ 23.96875 65.921875 18.8125 64.3125 \r\nQ 13.671875 62.703125 7.8125 59.421875 \r\nL 7.8125 69.390625 \r\nQ 13.765625 71.78125 18.9375 73 \r\nQ 24.125 74.21875 28.421875 74.21875 \r\nQ 39.75 74.21875 46.484375 68.546875 \r\nQ 53.21875 62.890625 53.21875 53.421875 \r\nQ 53.21875 48.921875 51.53125 44.890625 \r\nQ 49.859375 40.875 45.40625 35.40625 \r\nQ 44.1875 33.984375 37.640625 27.21875 \r\nQ 31.109375 20.453125 19.1875 8.296875 \r\nz\r\n\" id=\"DejaVuSans-50\"/>\r\n       </defs>\r\n       <use xlink:href=\"#DejaVuSans-50\"/>\r\n       <use x=\"63.623047\" xlink:href=\"#DejaVuSans-48\"/>\r\n      </g>\r\n     </g>\r\n    </g>\r\n    <g id=\"xtick_4\">\r\n     <g id=\"line2d_4\">\r\n      <g>\r\n       <use style=\"stroke:#000000;stroke-width:0.8;\" x=\"221.583949\" xlink:href=\"#m8615eb8567\" y=\"242.6\"/>\r\n      </g>\r\n     </g>\r\n     <g id=\"text_4\">\r\n      <!-- 25 -->\r\n      <g transform=\"translate(215.221449 257.198437)scale(0.1 -0.1)\">\r\n       <use xlink:href=\"#DejaVuSans-50\"/>\r\n       <use x=\"63.623047\" xlink:href=\"#DejaVuSans-53\"/>\r\n      </g>\r\n     </g>\r\n    </g>\r\n    <g id=\"xtick_5\">\r\n     <g id=\"line2d_5\">\r\n      <g>\r\n       <use style=\"stroke:#000000;stroke-width:0.8;\" x=\"274.17983\" xlink:href=\"#m8615eb8567\" y=\"242.6\"/>\r\n      </g>\r\n     </g>\r\n     <g id=\"text_5\">\r\n      <!-- 30 -->\r\n      <g transform=\"translate(267.81733 257.198437)scale(0.1 -0.1)\">\r\n       <defs>\r\n        <path d=\"M 40.578125 39.3125 \r\nQ 47.65625 37.796875 51.625 33 \r\nQ 55.609375 28.21875 55.609375 21.1875 \r\nQ 55.609375 10.40625 48.1875 4.484375 \r\nQ 40.765625 -1.421875 27.09375 -1.421875 \r\nQ 22.515625 -1.421875 17.65625 -0.515625 \r\nQ 12.796875 0.390625 7.625 2.203125 \r\nL 7.625 11.71875 \r\nQ 11.71875 9.328125 16.59375 8.109375 \r\nQ 21.484375 6.890625 26.8125 6.890625 \r\nQ 36.078125 6.890625 40.9375 10.546875 \r\nQ 45.796875 14.203125 45.796875 21.1875 \r\nQ 45.796875 27.640625 41.28125 31.265625 \r\nQ 36.765625 34.90625 28.71875 34.90625 \r\nL 20.21875 34.90625 \r\nL 20.21875 43.015625 \r\nL 29.109375 43.015625 \r\nQ 36.375 43.015625 40.234375 45.921875 \r\nQ 44.09375 48.828125 44.09375 54.296875 \r\nQ 44.09375 59.90625 40.109375 62.90625 \r\nQ 36.140625 65.921875 28.71875 65.921875 \r\nQ 24.65625 65.921875 20.015625 65.03125 \r\nQ 15.375 64.15625 9.8125 62.3125 \r\nL 9.8125 71.09375 \r\nQ 15.4375 72.65625 20.34375 73.4375 \r\nQ 25.25 74.21875 29.59375 74.21875 \r\nQ 40.828125 74.21875 47.359375 69.109375 \r\nQ 53.90625 64.015625 53.90625 55.328125 \r\nQ 53.90625 49.265625 50.4375 45.09375 \r\nQ 46.96875 40.921875 40.578125 39.3125 \r\nz\r\n\" id=\"DejaVuSans-51\"/>\r\n       </defs>\r\n       <use xlink:href=\"#DejaVuSans-51\"/>\r\n       <use x=\"63.623047\" xlink:href=\"#DejaVuSans-48\"/>\r\n      </g>\r\n     </g>\r\n    </g>\r\n    <g id=\"xtick_6\">\r\n     <g id=\"line2d_6\">\r\n      <g>\r\n       <use style=\"stroke:#000000;stroke-width:0.8;\" x=\"326.77571\" xlink:href=\"#m8615eb8567\" y=\"242.6\"/>\r\n      </g>\r\n     </g>\r\n     <g id=\"text_6\">\r\n      <!-- 35 -->\r\n      <g transform=\"translate(320.41321 257.198437)scale(0.1 -0.1)\">\r\n       <use xlink:href=\"#DejaVuSans-51\"/>\r\n       <use x=\"63.623047\" xlink:href=\"#DejaVuSans-53\"/>\r\n      </g>\r\n     </g>\r\n    </g>\r\n    <g id=\"xtick_7\">\r\n     <g id=\"line2d_7\">\r\n      <g>\r\n       <use style=\"stroke:#000000;stroke-width:0.8;\" x=\"379.371591\" xlink:href=\"#m8615eb8567\" y=\"242.6\"/>\r\n      </g>\r\n     </g>\r\n     <g id=\"text_7\">\r\n      <!-- 40 -->\r\n      <g transform=\"translate(373.009091 257.198437)scale(0.1 -0.1)\">\r\n       <defs>\r\n        <path d=\"M 37.796875 64.3125 \r\nL 12.890625 25.390625 \r\nL 37.796875 25.390625 \r\nz\r\nM 35.203125 72.90625 \r\nL 47.609375 72.90625 \r\nL 47.609375 25.390625 \r\nL 58.015625 25.390625 \r\nL 58.015625 17.1875 \r\nL 47.609375 17.1875 \r\nL 47.609375 0 \r\nL 37.796875 0 \r\nL 37.796875 17.1875 \r\nL 4.890625 17.1875 \r\nL 4.890625 26.703125 \r\nz\r\n\" id=\"DejaVuSans-52\"/>\r\n       </defs>\r\n       <use xlink:href=\"#DejaVuSans-52\"/>\r\n       <use x=\"63.623047\" xlink:href=\"#DejaVuSans-48\"/>\r\n      </g>\r\n     </g>\r\n    </g>\r\n    <g id=\"text_8\">\r\n     <!-- Number of starred repos -->\r\n     <g transform=\"translate(170.782031 270.876562)scale(0.1 -0.1)\">\r\n      <defs>\r\n       <path d=\"M 9.8125 72.90625 \r\nL 23.09375 72.90625 \r\nL 55.421875 11.921875 \r\nL 55.421875 72.90625 \r\nL 64.984375 72.90625 \r\nL 64.984375 0 \r\nL 51.703125 0 \r\nL 19.390625 60.984375 \r\nL 19.390625 0 \r\nL 9.8125 0 \r\nz\r\n\" id=\"DejaVuSans-78\"/>\r\n       <path d=\"M 8.5 21.578125 \r\nL 8.5 54.6875 \r\nL 17.484375 54.6875 \r\nL 17.484375 21.921875 \r\nQ 17.484375 14.15625 20.5 10.265625 \r\nQ 23.53125 6.390625 29.59375 6.390625 \r\nQ 36.859375 6.390625 41.078125 11.03125 \r\nQ 45.3125 15.671875 45.3125 23.6875 \r\nL 45.3125 54.6875 \r\nL 54.296875 54.6875 \r\nL 54.296875 0 \r\nL 45.3125 0 \r\nL 45.3125 8.40625 \r\nQ 42.046875 3.421875 37.71875 1 \r\nQ 33.40625 -1.421875 27.6875 -1.421875 \r\nQ 18.265625 -1.421875 13.375 4.4375 \r\nQ 8.5 10.296875 8.5 21.578125 \r\nz\r\nM 31.109375 56 \r\nz\r\n\" id=\"DejaVuSans-117\"/>\r\n       <path d=\"M 52 44.1875 \r\nQ 55.375 50.25 60.0625 53.125 \r\nQ 64.75 56 71.09375 56 \r\nQ 79.640625 56 84.28125 50.015625 \r\nQ 88.921875 44.046875 88.921875 33.015625 \r\nL 88.921875 0 \r\nL 79.890625 0 \r\nL 79.890625 32.71875 \r\nQ 79.890625 40.578125 77.09375 44.375 \r\nQ 74.3125 48.1875 68.609375 48.1875 \r\nQ 61.625 48.1875 57.5625 43.546875 \r\nQ 53.515625 38.921875 53.515625 30.90625 \r\nL 53.515625 0 \r\nL 44.484375 0 \r\nL 44.484375 32.71875 \r\nQ 44.484375 40.625 41.703125 44.40625 \r\nQ 38.921875 48.1875 33.109375 48.1875 \r\nQ 26.21875 48.1875 22.15625 43.53125 \r\nQ 18.109375 38.875 18.109375 30.90625 \r\nL 18.109375 0 \r\nL 9.078125 0 \r\nL 9.078125 54.6875 \r\nL 18.109375 54.6875 \r\nL 18.109375 46.1875 \r\nQ 21.1875 51.21875 25.484375 53.609375 \r\nQ 29.78125 56 35.6875 56 \r\nQ 41.65625 56 45.828125 52.96875 \r\nQ 50 49.953125 52 44.1875 \r\nz\r\n\" id=\"DejaVuSans-109\"/>\r\n       <path d=\"M 48.6875 27.296875 \r\nQ 48.6875 37.203125 44.609375 42.84375 \r\nQ 40.53125 48.484375 33.40625 48.484375 \r\nQ 26.265625 48.484375 22.1875 42.84375 \r\nQ 18.109375 37.203125 18.109375 27.296875 \r\nQ 18.109375 17.390625 22.1875 11.75 \r\nQ 26.265625 6.109375 33.40625 6.109375 \r\nQ 40.53125 6.109375 44.609375 11.75 \r\nQ 48.6875 17.390625 48.6875 27.296875 \r\nz\r\nM 18.109375 46.390625 \r\nQ 20.953125 51.265625 25.265625 53.625 \r\nQ 29.59375 56 35.59375 56 \r\nQ 45.5625 56 51.78125 48.09375 \r\nQ 58.015625 40.1875 58.015625 27.296875 \r\nQ 58.015625 14.40625 51.78125 6.484375 \r\nQ 45.5625 -1.421875 35.59375 -1.421875 \r\nQ 29.59375 -1.421875 25.265625 0.953125 \r\nQ 20.953125 3.328125 18.109375 8.203125 \r\nL 18.109375 0 \r\nL 9.078125 0 \r\nL 9.078125 75.984375 \r\nL 18.109375 75.984375 \r\nz\r\n\" id=\"DejaVuSans-98\"/>\r\n       <path d=\"M 56.203125 29.59375 \r\nL 56.203125 25.203125 \r\nL 14.890625 25.203125 \r\nQ 15.484375 15.921875 20.484375 11.0625 \r\nQ 25.484375 6.203125 34.421875 6.203125 \r\nQ 39.59375 6.203125 44.453125 7.46875 \r\nQ 49.3125 8.734375 54.109375 11.28125 \r\nL 54.109375 2.78125 \r\nQ 49.265625 0.734375 44.1875 -0.34375 \r\nQ 39.109375 -1.421875 33.890625 -1.421875 \r\nQ 20.796875 -1.421875 13.15625 6.1875 \r\nQ 5.515625 13.8125 5.515625 26.8125 \r\nQ 5.515625 40.234375 12.765625 48.109375 \r\nQ 20.015625 56 32.328125 56 \r\nQ 43.359375 56 49.78125 48.890625 \r\nQ 56.203125 41.796875 56.203125 29.59375 \r\nz\r\nM 47.21875 32.234375 \r\nQ 47.125 39.59375 43.09375 43.984375 \r\nQ 39.0625 48.390625 32.421875 48.390625 \r\nQ 24.90625 48.390625 20.390625 44.140625 \r\nQ 15.875 39.890625 15.1875 32.171875 \r\nz\r\n\" id=\"DejaVuSans-101\"/>\r\n       <path d=\"M 41.109375 46.296875 \r\nQ 39.59375 47.171875 37.8125 47.578125 \r\nQ 36.03125 48 33.890625 48 \r\nQ 26.265625 48 22.1875 43.046875 \r\nQ 18.109375 38.09375 18.109375 28.8125 \r\nL 18.109375 0 \r\nL 9.078125 0 \r\nL 9.078125 54.6875 \r\nL 18.109375 54.6875 \r\nL 18.109375 46.1875 \r\nQ 20.953125 51.171875 25.484375 53.578125 \r\nQ 30.03125 56 36.53125 56 \r\nQ 37.453125 56 38.578125 55.875 \r\nQ 39.703125 55.765625 41.0625 55.515625 \r\nz\r\n\" id=\"DejaVuSans-114\"/>\r\n       <path id=\"DejaVuSans-32\"/>\r\n       <path d=\"M 30.609375 48.390625 \r\nQ 23.390625 48.390625 19.1875 42.75 \r\nQ 14.984375 37.109375 14.984375 27.296875 \r\nQ 14.984375 17.484375 19.15625 11.84375 \r\nQ 23.34375 6.203125 30.609375 6.203125 \r\nQ 37.796875 6.203125 41.984375 11.859375 \r\nQ 46.1875 17.53125 46.1875 27.296875 \r\nQ 46.1875 37.015625 41.984375 42.703125 \r\nQ 37.796875 48.390625 30.609375 48.390625 \r\nz\r\nM 30.609375 56 \r\nQ 42.328125 56 49.015625 48.375 \r\nQ 55.71875 40.765625 55.71875 27.296875 \r\nQ 55.71875 13.875 49.015625 6.21875 \r\nQ 42.328125 -1.421875 30.609375 -1.421875 \r\nQ 18.84375 -1.421875 12.171875 6.21875 \r\nQ 5.515625 13.875 5.515625 27.296875 \r\nQ 5.515625 40.765625 12.171875 48.375 \r\nQ 18.84375 56 30.609375 56 \r\nz\r\n\" id=\"DejaVuSans-111\"/>\r\n       <path d=\"M 37.109375 75.984375 \r\nL 37.109375 68.5 \r\nL 28.515625 68.5 \r\nQ 23.6875 68.5 21.796875 66.546875 \r\nQ 19.921875 64.59375 19.921875 59.515625 \r\nL 19.921875 54.6875 \r\nL 34.71875 54.6875 \r\nL 34.71875 47.703125 \r\nL 19.921875 47.703125 \r\nL 19.921875 0 \r\nL 10.890625 0 \r\nL 10.890625 47.703125 \r\nL 2.296875 47.703125 \r\nL 2.296875 54.6875 \r\nL 10.890625 54.6875 \r\nL 10.890625 58.5 \r\nQ 10.890625 67.625 15.140625 71.796875 \r\nQ 19.390625 75.984375 28.609375 75.984375 \r\nz\r\n\" id=\"DejaVuSans-102\"/>\r\n       <path d=\"M 44.28125 53.078125 \r\nL 44.28125 44.578125 \r\nQ 40.484375 46.53125 36.375 47.5 \r\nQ 32.28125 48.484375 27.875 48.484375 \r\nQ 21.1875 48.484375 17.84375 46.4375 \r\nQ 14.5 44.390625 14.5 40.28125 \r\nQ 14.5 37.15625 16.890625 35.375 \r\nQ 19.28125 33.59375 26.515625 31.984375 \r\nL 29.59375 31.296875 \r\nQ 39.15625 29.25 43.1875 25.515625 \r\nQ 47.21875 21.78125 47.21875 15.09375 \r\nQ 47.21875 7.46875 41.1875 3.015625 \r\nQ 35.15625 -1.421875 24.609375 -1.421875 \r\nQ 20.21875 -1.421875 15.453125 -0.5625 \r\nQ 10.6875 0.296875 5.421875 2 \r\nL 5.421875 11.28125 \r\nQ 10.40625 8.6875 15.234375 7.390625 \r\nQ 20.0625 6.109375 24.8125 6.109375 \r\nQ 31.15625 6.109375 34.5625 8.28125 \r\nQ 37.984375 10.453125 37.984375 14.40625 \r\nQ 37.984375 18.0625 35.515625 20.015625 \r\nQ 33.0625 21.96875 24.703125 23.78125 \r\nL 21.578125 24.515625 \r\nQ 13.234375 26.265625 9.515625 29.90625 \r\nQ 5.8125 33.546875 5.8125 39.890625 \r\nQ 5.8125 47.609375 11.28125 51.796875 \r\nQ 16.75 56 26.8125 56 \r\nQ 31.78125 56 36.171875 55.265625 \r\nQ 40.578125 54.546875 44.28125 53.078125 \r\nz\r\n\" id=\"DejaVuSans-115\"/>\r\n       <path d=\"M 18.3125 70.21875 \r\nL 18.3125 54.6875 \r\nL 36.8125 54.6875 \r\nL 36.8125 47.703125 \r\nL 18.3125 47.703125 \r\nL 18.3125 18.015625 \r\nQ 18.3125 11.328125 20.140625 9.421875 \r\nQ 21.96875 7.515625 27.59375 7.515625 \r\nL 36.8125 7.515625 \r\nL 36.8125 0 \r\nL 27.59375 0 \r\nQ 17.1875 0 13.234375 3.875 \r\nQ 9.28125 7.765625 9.28125 18.015625 \r\nL 9.28125 47.703125 \r\nL 2.6875 47.703125 \r\nL 2.6875 54.6875 \r\nL 9.28125 54.6875 \r\nL 9.28125 70.21875 \r\nz\r\n\" id=\"DejaVuSans-116\"/>\r\n       <path d=\"M 34.28125 27.484375 \r\nQ 23.390625 27.484375 19.1875 25 \r\nQ 14.984375 22.515625 14.984375 16.5 \r\nQ 14.984375 11.71875 18.140625 8.90625 \r\nQ 21.296875 6.109375 26.703125 6.109375 \r\nQ 34.1875 6.109375 38.703125 11.40625 \r\nQ 43.21875 16.703125 43.21875 25.484375 \r\nL 43.21875 27.484375 \r\nz\r\nM 52.203125 31.203125 \r\nL 52.203125 0 \r\nL 43.21875 0 \r\nL 43.21875 8.296875 \r\nQ 40.140625 3.328125 35.546875 0.953125 \r\nQ 30.953125 -1.421875 24.3125 -1.421875 \r\nQ 15.921875 -1.421875 10.953125 3.296875 \r\nQ 6 8.015625 6 15.921875 \r\nQ 6 25.140625 12.171875 29.828125 \r\nQ 18.359375 34.515625 30.609375 34.515625 \r\nL 43.21875 34.515625 \r\nL 43.21875 35.40625 \r\nQ 43.21875 41.609375 39.140625 45 \r\nQ 35.0625 48.390625 27.6875 48.390625 \r\nQ 23 48.390625 18.546875 47.265625 \r\nQ 14.109375 46.140625 10.015625 43.890625 \r\nL 10.015625 52.203125 \r\nQ 14.9375 54.109375 19.578125 55.046875 \r\nQ 24.21875 56 28.609375 56 \r\nQ 40.484375 56 46.34375 49.84375 \r\nQ 52.203125 43.703125 52.203125 31.203125 \r\nz\r\n\" id=\"DejaVuSans-97\"/>\r\n       <path d=\"M 45.40625 46.390625 \r\nL 45.40625 75.984375 \r\nL 54.390625 75.984375 \r\nL 54.390625 0 \r\nL 45.40625 0 \r\nL 45.40625 8.203125 \r\nQ 42.578125 3.328125 38.25 0.953125 \r\nQ 33.9375 -1.421875 27.875 -1.421875 \r\nQ 17.96875 -1.421875 11.734375 6.484375 \r\nQ 5.515625 14.40625 5.515625 27.296875 \r\nQ 5.515625 40.1875 11.734375 48.09375 \r\nQ 17.96875 56 27.875 56 \r\nQ 33.9375 56 38.25 53.625 \r\nQ 42.578125 51.265625 45.40625 46.390625 \r\nz\r\nM 14.796875 27.296875 \r\nQ 14.796875 17.390625 18.875 11.75 \r\nQ 22.953125 6.109375 30.078125 6.109375 \r\nQ 37.203125 6.109375 41.296875 11.75 \r\nQ 45.40625 17.390625 45.40625 27.296875 \r\nQ 45.40625 37.203125 41.296875 42.84375 \r\nQ 37.203125 48.484375 30.078125 48.484375 \r\nQ 22.953125 48.484375 18.875 42.84375 \r\nQ 14.796875 37.203125 14.796875 27.296875 \r\nz\r\n\" id=\"DejaVuSans-100\"/>\r\n       <path d=\"M 18.109375 8.203125 \r\nL 18.109375 -20.796875 \r\nL 9.078125 -20.796875 \r\nL 9.078125 54.6875 \r\nL 18.109375 54.6875 \r\nL 18.109375 46.390625 \r\nQ 20.953125 51.265625 25.265625 53.625 \r\nQ 29.59375 56 35.59375 56 \r\nQ 45.5625 56 51.78125 48.09375 \r\nQ 58.015625 40.1875 58.015625 27.296875 \r\nQ 58.015625 14.40625 51.78125 6.484375 \r\nQ 45.5625 -1.421875 35.59375 -1.421875 \r\nQ 29.59375 -1.421875 25.265625 0.953125 \r\nQ 20.953125 3.328125 18.109375 8.203125 \r\nz\r\nM 48.6875 27.296875 \r\nQ 48.6875 37.203125 44.609375 42.84375 \r\nQ 40.53125 48.484375 33.40625 48.484375 \r\nQ 26.265625 48.484375 22.1875 42.84375 \r\nQ 18.109375 37.203125 18.109375 27.296875 \r\nQ 18.109375 17.390625 22.1875 11.75 \r\nQ 26.265625 6.109375 33.40625 6.109375 \r\nQ 40.53125 6.109375 44.609375 11.75 \r\nQ 48.6875 17.390625 48.6875 27.296875 \r\nz\r\n\" id=\"DejaVuSans-112\"/>\r\n      </defs>\r\n      <use xlink:href=\"#DejaVuSans-78\"/>\r\n      <use x=\"74.804688\" xlink:href=\"#DejaVuSans-117\"/>\r\n      <use x=\"138.183594\" xlink:href=\"#DejaVuSans-109\"/>\r\n      <use x=\"235.595703\" xlink:href=\"#DejaVuSans-98\"/>\r\n      <use x=\"299.072266\" xlink:href=\"#DejaVuSans-101\"/>\r\n      <use x=\"360.595703\" xlink:href=\"#DejaVuSans-114\"/>\r\n      <use x=\"401.708984\" xlink:href=\"#DejaVuSans-32\"/>\r\n      <use x=\"433.496094\" xlink:href=\"#DejaVuSans-111\"/>\r\n      <use x=\"494.677734\" xlink:href=\"#DejaVuSans-102\"/>\r\n      <use x=\"529.882812\" xlink:href=\"#DejaVuSans-32\"/>\r\n      <use x=\"561.669922\" xlink:href=\"#DejaVuSans-115\"/>\r\n      <use x=\"613.769531\" xlink:href=\"#DejaVuSans-116\"/>\r\n      <use x=\"652.978516\" xlink:href=\"#DejaVuSans-97\"/>\r\n      <use x=\"714.257812\" xlink:href=\"#DejaVuSans-114\"/>\r\n      <use x=\"753.621094\" xlink:href=\"#DejaVuSans-114\"/>\r\n      <use x=\"792.484375\" xlink:href=\"#DejaVuSans-101\"/>\r\n      <use x=\"854.007812\" xlink:href=\"#DejaVuSans-100\"/>\r\n      <use x=\"917.484375\" xlink:href=\"#DejaVuSans-32\"/>\r\n      <use x=\"949.271484\" xlink:href=\"#DejaVuSans-114\"/>\r\n      <use x=\"988.134766\" xlink:href=\"#DejaVuSans-101\"/>\r\n      <use x=\"1049.658203\" xlink:href=\"#DejaVuSans-112\"/>\r\n      <use x=\"1113.134766\" xlink:href=\"#DejaVuSans-111\"/>\r\n      <use x=\"1174.316406\" xlink:href=\"#DejaVuSans-115\"/>\r\n     </g>\r\n    </g>\r\n   </g>\r\n   <g id=\"matplotlib.axis_2\">\r\n    <g id=\"ytick_1\">\r\n     <g id=\"line2d_8\">\r\n      <defs>\r\n       <path d=\"M 0 0 \r\nL -3.5 0 \r\n\" id=\"m4919e3f000\" style=\"stroke:#000000;stroke-width:0.8;\"/>\r\n      </defs>\r\n      <g>\r\n       <use style=\"stroke:#000000;stroke-width:0.8;\" x=\"46.965625\" xlink:href=\"#m4919e3f000\" y=\"242.6\"/>\r\n      </g>\r\n     </g>\r\n     <g id=\"text_9\">\r\n      <!-- 0 -->\r\n      <g transform=\"translate(33.603125 246.399219)scale(0.1 -0.1)\">\r\n       <use xlink:href=\"#DejaVuSans-48\"/>\r\n      </g>\r\n     </g>\r\n    </g>\r\n    <g id=\"ytick_2\">\r\n     <g id=\"line2d_9\">\r\n      <g>\r\n       <use style=\"stroke:#000000;stroke-width:0.8;\" x=\"46.965625\" xlink:href=\"#m4919e3f000\" y=\"193.435422\"/>\r\n      </g>\r\n     </g>\r\n     <g id=\"text_10\">\r\n      <!-- 50 -->\r\n      <g transform=\"translate(27.240625 197.234641)scale(0.1 -0.1)\">\r\n       <use xlink:href=\"#DejaVuSans-53\"/>\r\n       <use x=\"63.623047\" xlink:href=\"#DejaVuSans-48\"/>\r\n      </g>\r\n     </g>\r\n    </g>\r\n    <g id=\"ytick_3\">\r\n     <g id=\"line2d_10\">\r\n      <g>\r\n       <use style=\"stroke:#000000;stroke-width:0.8;\" x=\"46.965625\" xlink:href=\"#m4919e3f000\" y=\"144.270844\"/>\r\n      </g>\r\n     </g>\r\n     <g id=\"text_11\">\r\n      <!-- 100 -->\r\n      <g transform=\"translate(20.878125 148.070063)scale(0.1 -0.1)\">\r\n       <use xlink:href=\"#DejaVuSans-49\"/>\r\n       <use x=\"63.623047\" xlink:href=\"#DejaVuSans-48\"/>\r\n       <use x=\"127.246094\" xlink:href=\"#DejaVuSans-48\"/>\r\n      </g>\r\n     </g>\r\n    </g>\r\n    <g id=\"ytick_4\">\r\n     <g id=\"line2d_11\">\r\n      <g>\r\n       <use style=\"stroke:#000000;stroke-width:0.8;\" x=\"46.965625\" xlink:href=\"#m4919e3f000\" y=\"95.106266\"/>\r\n      </g>\r\n     </g>\r\n     <g id=\"text_12\">\r\n      <!-- 150 -->\r\n      <g transform=\"translate(20.878125 98.905484)scale(0.1 -0.1)\">\r\n       <use xlink:href=\"#DejaVuSans-49\"/>\r\n       <use x=\"63.623047\" xlink:href=\"#DejaVuSans-53\"/>\r\n       <use x=\"127.246094\" xlink:href=\"#DejaVuSans-48\"/>\r\n      </g>\r\n     </g>\r\n    </g>\r\n    <g id=\"ytick_5\">\r\n     <g id=\"line2d_12\">\r\n      <g>\r\n       <use style=\"stroke:#000000;stroke-width:0.8;\" x=\"46.965625\" xlink:href=\"#m4919e3f000\" y=\"45.941688\"/>\r\n      </g>\r\n     </g>\r\n     <g id=\"text_13\">\r\n      <!-- 200 -->\r\n      <g transform=\"translate(20.878125 49.740906)scale(0.1 -0.1)\">\r\n       <use xlink:href=\"#DejaVuSans-50\"/>\r\n       <use x=\"63.623047\" xlink:href=\"#DejaVuSans-48\"/>\r\n       <use x=\"127.246094\" xlink:href=\"#DejaVuSans-48\"/>\r\n      </g>\r\n     </g>\r\n    </g>\r\n    <g id=\"text_14\">\r\n     <!-- Number of users -->\r\n     <g transform=\"translate(14.798438 166.49375)rotate(-90)scale(0.1 -0.1)\">\r\n      <use xlink:href=\"#DejaVuSans-78\"/>\r\n      <use x=\"74.804688\" xlink:href=\"#DejaVuSans-117\"/>\r\n      <use x=\"138.183594\" xlink:href=\"#DejaVuSans-109\"/>\r\n      <use x=\"235.595703\" xlink:href=\"#DejaVuSans-98\"/>\r\n      <use x=\"299.072266\" xlink:href=\"#DejaVuSans-101\"/>\r\n      <use x=\"360.595703\" xlink:href=\"#DejaVuSans-114\"/>\r\n      <use x=\"401.708984\" xlink:href=\"#DejaVuSans-32\"/>\r\n      <use x=\"433.496094\" xlink:href=\"#DejaVuSans-111\"/>\r\n      <use x=\"494.677734\" xlink:href=\"#DejaVuSans-102\"/>\r\n      <use x=\"529.882812\" xlink:href=\"#DejaVuSans-32\"/>\r\n      <use x=\"561.669922\" xlink:href=\"#DejaVuSans-117\"/>\r\n      <use x=\"625.048828\" xlink:href=\"#DejaVuSans-115\"/>\r\n      <use x=\"677.148438\" xlink:href=\"#DejaVuSans-101\"/>\r\n      <use x=\"738.671875\" xlink:href=\"#DejaVuSans-114\"/>\r\n      <use x=\"779.785156\" xlink:href=\"#DejaVuSans-115\"/>\r\n     </g>\r\n    </g>\r\n   </g>\r\n   <g id=\"patch_26\">\r\n    <path d=\"M 46.965625 242.6 \r\nL 46.965625 7.2 \r\n\" style=\"fill:none;stroke:#000000;stroke-linecap:square;stroke-linejoin:miter;stroke-width:0.8;\"/>\r\n   </g>\r\n   <g id=\"patch_27\">\r\n    <path d=\"M 417.240625 242.6 \r\nL 417.240625 7.2 \r\n\" style=\"fill:none;stroke:#000000;stroke-linecap:square;stroke-linejoin:miter;stroke-width:0.8;\"/>\r\n   </g>\r\n   <g id=\"patch_28\">\r\n    <path d=\"M 46.965625 242.6 \r\nL 417.240625 242.6 \r\n\" style=\"fill:none;stroke:#000000;stroke-linecap:square;stroke-linejoin:miter;stroke-width:0.8;\"/>\r\n   </g>\r\n   <g id=\"patch_29\">\r\n    <path d=\"M 46.965625 7.2 \r\nL 417.240625 7.2 \r\n\" style=\"fill:none;stroke:#000000;stroke-linecap:square;stroke-linejoin:miter;stroke-width:0.8;\"/>\r\n   </g>\r\n  </g>\r\n </g>\r\n <defs>\r\n  <clipPath id=\"p480a0b361d\">\r\n   <rect height=\"235.4\" width=\"370.275\" x=\"46.965625\" y=\"7.2\"/>\r\n  </clipPath>\r\n </defs>\r\n</svg>\r\n",
      "image/png": "[encoded data removed]"
     },
     "metadata": {
      "needs_background": "light"
     }
    }
   ],
   "source": [
    "plt.hist(filtered_values, bins = len(set(filtered_values)), align = \"mid\")\n",
    "plt.style.use(\"seaborn-bright\")\n",
    "plt.xlabel(\"Number of starred repos\")\n",
    "plt.ylabel(\"Number of users\")\n",
    "plt.tight_layout()\n",
    "plt.savefig(\"Histogram.png\", format = \"png\", dpi = 200)\n",
    "plt.show()\n"
   ]
  },
  {
   "cell_type": "code",
   "execution_count": 14,
   "metadata": {},
   "outputs": [
    {
     "output_type": "stream",
     "name": "stdout",
     "text": [
      "['Solarize_Light2', '_classic_test_patch', 'bmh', 'classic', 'dark_background', 'fast', 'fivethirtyeight', 'ggplot', 'grayscale', 'seaborn', 'seaborn-bright', 'seaborn-colorblind', 'seaborn-dark', 'seaborn-dark-palette', 'seaborn-darkgrid', 'seaborn-deep', 'seaborn-muted', 'seaborn-notebook', 'seaborn-paper', 'seaborn-pastel', 'seaborn-poster', 'seaborn-talk', 'seaborn-ticks', 'seaborn-white', 'seaborn-whitegrid', 'tableau-colorblind10']\n"
     ]
    }
   ],
   "source": [
    "print(plt.style.available)\n"
   ]
  },
  {
   "cell_type": "code",
   "execution_count": null,
   "metadata": {},
   "outputs": [],
   "source": []
  }
 ]
}